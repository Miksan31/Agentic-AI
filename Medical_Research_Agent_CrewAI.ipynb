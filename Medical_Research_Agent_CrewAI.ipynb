{
  "nbformat": 4,
  "nbformat_minor": 0,
  "metadata": {
    "colab": {
      "private_outputs": true,
      "provenance": [],
      "include_colab_link": true
    },
    "kernelspec": {
      "name": "python3",
      "display_name": "Python 3"
    },
    "language_info": {
      "name": "python"
    }
  },
  "cells": [
    {
      "cell_type": "markdown",
      "metadata": {
        "id": "view-in-github",
        "colab_type": "text"
      },
      "source": [
        "<a href=\"https://colab.research.google.com/github/Miksan31/Agentic-AI/blob/main/Medical_Research_Agent_CrewAI.ipynb\" target=\"_parent\"><img src=\"https://colab.research.google.com/assets/colab-badge.svg\" alt=\"Open In Colab\"/></a>"
      ]
    },
    {
      "cell_type": "code",
      "source": [
        "# @title Install project dependencies\n",
        "!pip install crewai_tools langchain_openai langchain_groq langchain_anthropic langchain_community cohere --quiet\n"
      ],
      "metadata": {
        "id": "P8iHNKCfk9Rv"
      },
      "execution_count": null,
      "outputs": []
    },
    {
      "cell_type": "code",
      "execution_count": null,
      "metadata": {
        "id": "BhAt-unGk4kA"
      },
      "outputs": [],
      "source": [
        "# @title LLM API Key\n",
        "\n",
        "import os\n",
        "from getpass import getpass\n",
        "from crewai import Agent, Task, Crew, Process\n",
        "from textwrap import dedent\n",
        "from langchain_openai import ChatOpenAI\n",
        "\n",
        "# os.environ[\"OPENAI_API_KEY\"] = getpass(\"Enter OpenAPI key: \")\n",
        "# ↑ uncomment to use OpenAI's API\n",
        "os.environ[\"GROQ_API_KEY\"] = getpass(\"Enter GROQ_API_KEY: \")\n",
        "# ↑ uncomment to use Groq's API\n",
        "\n",
        "# Check if the 'output-files' directory exists, and create it if it doesn't\n",
        "if not os.path.exists('output-files'):\n",
        "    os.makedirs('output-files')"
      ]
    },
    {
      "cell_type": "code",
      "source": [
        "# @title Serper API Key\n",
        "\n",
        "from crewai_tools import SerperDevTool\n",
        "\n",
        "os.environ[\"SERPER_API_KEY\"] = getpass(\"Serper Key\")\n",
        "\n",
        "search_tool = SerperDevTool()"
      ],
      "metadata": {
        "id": "IENZ1rmviDZY"
      },
      "execution_count": null,
      "outputs": []
    },
    {
      "cell_type": "code",
      "source": [
        "# @title Agents\n",
        "\n",
        "from crewai import LLM\n",
        "# Agent Definitions\n",
        "\n",
        "senior_research_analyst= Agent(\n",
        "    role= \"Senior Research Analyst\",\n",
        "    goal= \"Research and analyze the medical industry using Generative AI on {topic} from reliable web sources\",\n",
        "    backstory= \"A highly skilled and experienced Senior Research Analyst with a deep understanding of Generative AI and its applications in the medical industry. They have a proven track record of conducting thorough research and analysis, and are able to identify trends and patterns in complex data sets. They are also proficient in using various tools and technologies to support their research, including Generative AI and other advanced analytics techniques.\",\n",
        "    allow_delegation= False,\n",
        "    verbose= True,\n",
        "    # ↑ Whether the agent execution should be in verbose mode\n",
        "    max_iter=3,\n",
        "    # ↑ maximum number of iterations the agent can perform before being forced to give its best answer (generate the output)\n",
        "    max_rpm=100, # This is the maximum number of requests per minute that the agent can make to the language model\n",
        "    # llm=ChatOpenAI(model_name=\"gpt-3.5-turbo\", temperature=0.8)\n",
        "\n",
        "    llm = LLM(\n",
        "    model=\"groq/llama-3.3-70b-versatile\",\n",
        "    # model=\"groq/llama-3.3-70b-specdec\",\n",
        "    temperature=0.7\n",
        "    )\n",
        ")\n",
        "\n",
        "content_writer= Agent(\n",
        "    role= \"Content Writer\",\n",
        "    goal= \"Write a comprehensive report on the medical industry using Generative AI on {topic} based on the research conducted by the Senior Research Analyst\",\n",
        "    backstory= \"A highly skilled and experienced Content Writer with a deep understanding of the medical industry and its applications in Generative AI. They have a proven track record of writing clear, concise, and engaging reports that effectively communicate complex information to a wide range of audiences. They are also proficient in using various tools and technologies to support their writing, including Generative AI and other advanced analytics techniques.\",\n",
        "    allow_delegation= False,\n",
        "    verbose= True,\n",
        "    # ↑ Whether the agent execution should be in verbose mode\n",
        "    max_iter=3,\n",
        "    # ↑ maximum number of iterations the agent can perform before being forced to give its best answer (generate the output)\n",
        "    max_rpm=100, # This is the maximum number of requests per minute that the agent can make to the language model\n",
        "    # llm=ChatOpenAI(model_name=\"gpt-3.5-turbo\", temperature=0.8)\n",
        "    llm = LLM(\n",
        "    model=\"groq/llama-3.3-70b-versatile\",\n",
        "    # model=\"groq/llama-3.3-70b-specdec\",\n",
        "    temperature=0.7\n",
        "    )\n",
        ")\n"
      ],
      "metadata": {
        "id": "hZJwUoXasrhx"
      },
      "execution_count": null,
      "outputs": []
    },
    {
      "cell_type": "code",
      "source": [
        "# @title Tasks\n",
        "# Task Definitions\n",
        "\n",
        "import datetime\n",
        "\n",
        "research_task= Task(\n",
        "    description= \"Conduct research on the medical industry using Generative AI on {topic}, evaluate source credibitlity and fact check all information, include all relevant citations and sources\",\n",
        "    expected_output= \"A comprehensive report on the medical industry using Generative AI on {topic}, including all relevant citations and sources,clear catergorization of main themes and patterns, with proper formatting\",\n",
        "    agent=senior_research_analyst,\n",
        "    output_file=f'output-files/agent_1_{datetime.datetime.now().strftime(\"%Y%m%d_%H%M%S\")}.md'\n",
        "    # ↑ The output of each task iteration will be saved here\n",
        ")\n",
        "\n",
        "writing_task= Task(\n",
        "    description= \"Write a report on the medical industry using Generative AI on {topic}, include all relevant citations and sources, clear catergorization of main themes and patterns, with proper formatting\",\n",
        "    expected_output= \"A comprehensive blog post on the medical industry using Generative AI on {topic}, including all relevant citations and sources,clear catergorization of main themes and patterns, with proper formatting\",\n",
        "    agent=content_writer,\n",
        "    context=[research_task],\n",
        "    # ↑ specify which task's output should be used as context for subsequent tasks\n",
        "    output_file=f'output-files/agent_2_{datetime.datetime.now().strftime(\"%Y%m%d_%H%M%S\")}.md'\n",
        "    # ↑ The output of each task iteration will be saved here\n",
        ")\n"
      ],
      "metadata": {
        "id": "dqtn3w1qs-Bu"
      },
      "execution_count": null,
      "outputs": []
    },
    {
      "cell_type": "code",
      "source": [
        "# @title Define variables and input them\n",
        "print(\"Agentic AI Crew\")\n",
        "print('-------------------------------------------')\n",
        "var_1 = input(\"Research Topic\\n\")"
      ],
      "metadata": {
        "id": "HfJRdGHesMwn"
      },
      "execution_count": null,
      "outputs": []
    },
    {
      "cell_type": "code",
      "source": [
        "# @title  Crew build\n",
        "def main():\n",
        "    # Instantiating crew with a sequential process\n",
        "    crew = Crew(\n",
        "        agents=[senior_research_analyst, content_writer],\n",
        "        tasks=[research_task, writing_task],\n",
        "        verbose=True,\n",
        "        # ↑ indicates the verbosity level for logging during execution.\n",
        "        process=Process.sequential\n",
        "        # ↑ the process flow that the crew will follow (e.g., sequential, hierarchical).\n",
        "    )\n",
        "\n",
        "    inputs = (var_1)\n",
        "\n",
        "    result = crew.kickoff(inputs= {\"topic\" : inputs})\n",
        "    print(\"\\n\\n########################\")\n",
        "    print(\"## Custom crew run result:\")\n",
        "    print(\"########################\\n\")\n",
        "    print(result)\n",
        "\n",
        "    return result\n",
        "\n",
        "if __name__ == \"__main__\":\n",
        "  result = main()"
      ],
      "metadata": {
        "id": "nrBn8dMlxfCn"
      },
      "execution_count": null,
      "outputs": []
    },
    {
      "cell_type": "code",
      "source": [
        "# @title Results of crew as markdown\n",
        "from IPython.display import display, Markdown\n",
        "\n",
        "markdown_text = result.raw  # Adjust this based on the actual attribute\n",
        "\n",
        "# Display the markdown content\n",
        "display(Markdown(markdown_text))"
      ],
      "metadata": {
        "id": "r-Xl4P3AxFSJ"
      },
      "execution_count": null,
      "outputs": []
    },
    {
      "cell_type": "code",
      "source": [],
      "metadata": {
        "id": "jj3Lj7IMscMH"
      },
      "execution_count": null,
      "outputs": []
    }
  ]
}